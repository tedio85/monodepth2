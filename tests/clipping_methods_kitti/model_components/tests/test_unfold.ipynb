{
 "cells": [
  {
   "cell_type": "code",
   "execution_count": 2,
   "metadata": {},
   "outputs": [],
   "source": [
    "import numpy as np\n",
    "import torch"
   ]
  },
  {
   "cell_type": "markdown",
   "metadata": {},
   "source": [
    "### Testing how `torch.nn.Unfold` works"
   ]
  },
  {
   "cell_type": "code",
   "execution_count": 9,
   "metadata": {},
   "outputs": [
    {
     "name": "stdout",
     "output_type": "stream",
     "text": [
      "torch.Size([1, 3, 10, 20])\n",
      "tensor([  21., -210.,   21.], dtype=torch.float64)\n"
     ]
    }
   ],
   "source": [
    "h, w = 10, 20\n",
    "img = np.arange(h*w).reshape(1, 1, h, w)\n",
    "img = np.tile(img, [1, 3, 1, 1])\n",
    "img = torch.from_numpy(img).type(torch.double)\n",
    "img[0, 1, :, :] *= -1\n",
    "img[0, 1, :, :] *= 10\n",
    "print(img.shape)\n",
    "print(img[0, :, 1, 1])"
   ]
  },
  {
   "cell_type": "code",
   "execution_count": 11,
   "metadata": {},
   "outputs": [
    {
     "name": "stdout",
     "output_type": "stream",
     "text": [
      "torch.Size([1, 27, 96])\n"
     ]
    }
   ],
   "source": [
    "psize = 3\n",
    "unfold = torch.nn.Unfold(kernel_size=(psize, psize), dilation=2, padding=0, stride=1)\n",
    "output = unfold(img)\n",
    "print(output.shape)"
   ]
  },
  {
   "cell_type": "code",
   "execution_count": 13,
   "metadata": {},
   "outputs": [
    {
     "name": "stdout",
     "output_type": "stream",
     "text": [
      "torch.Size([1, 3, 3, 3, 6, 16])\n",
      "tensor([[[   0.,    2.,    4.],\n",
      "         [  40.,   42.,   44.],\n",
      "         [  80.,   82.,   84.]],\n",
      "\n",
      "        [[  -0.,  -20.,  -40.],\n",
      "         [-400., -420., -440.],\n",
      "         [-800., -820., -840.]],\n",
      "\n",
      "        [[   0.,    2.,    4.],\n",
      "         [  40.,   42.,   44.],\n",
      "         [  80.,   82.,   84.]]], dtype=torch.float64)\n"
     ]
    }
   ],
   "source": [
    "# reshape to [B, 3, psize, psize, h-ofs*2, w-ofs*2]\n",
    "effective_psize = 1 + 2 * (psize-1) \n",
    "ofs = (effective_psize-1)//2\n",
    "patches = output.view(1, 3, psize, psize, h-ofs*2, w-ofs*2)\n",
    "print(patches.shape)\n",
    "print(patches[0, :, :, :, 0, 0]) # top-left patch"
   ]
  },
  {
   "cell_type": "code",
   "execution_count": 14,
   "metadata": {},
   "outputs": [
    {
     "name": "stdout",
     "output_type": "stream",
     "text": [
      "tensor([[[  15.,   17.,   19.],\n",
      "         [  55.,   57.,   59.],\n",
      "         [  95.,   97.,   99.]],\n",
      "\n",
      "        [[-150., -170., -190.],\n",
      "         [-550., -570., -590.],\n",
      "         [-950., -970., -990.]],\n",
      "\n",
      "        [[  15.,   17.,   19.],\n",
      "         [  55.,   57.,   59.],\n",
      "         [  95.,   97.,   99.]]], dtype=torch.float64)\n"
     ]
    }
   ],
   "source": [
    "print(patches[0, :, :, :, 0, -1]) # top-right patch"
   ]
  },
  {
   "cell_type": "code",
   "execution_count": 16,
   "metadata": {},
   "outputs": [
    {
     "name": "stdout",
     "output_type": "stream",
     "text": [
      "tensor([[[  115.,   116.,   117.,   118.,   119.],\n",
      "         [  135.,   136.,   137.,   138.,   139.],\n",
      "         [  155.,   156.,   157.,   158.,   159.],\n",
      "         [  175.,   176.,   177.,   178.,   179.],\n",
      "         [  195.,   196.,   197.,   198.,   199.]],\n",
      "\n",
      "        [[-1150., -1160., -1170., -1180., -1190.],\n",
      "         [-1350., -1360., -1370., -1380., -1390.],\n",
      "         [-1550., -1560., -1570., -1580., -1590.],\n",
      "         [-1750., -1760., -1770., -1780., -1790.],\n",
      "         [-1950., -1960., -1970., -1980., -1990.]],\n",
      "\n",
      "        [[  115.,   116.,   117.,   118.,   119.],\n",
      "         [  135.,   136.,   137.,   138.,   139.],\n",
      "         [  155.,   156.,   157.,   158.,   159.],\n",
      "         [  175.,   176.,   177.,   178.,   179.],\n",
      "         [  195.,   196.,   197.,   198.,   199.]]], dtype=torch.float64)\n",
      "tensor([[[  115.,   117.,   119.],\n",
      "         [  155.,   157.,   159.],\n",
      "         [  195.,   197.,   199.]],\n",
      "\n",
      "        [[-1150., -1170., -1190.],\n",
      "         [-1550., -1570., -1590.],\n",
      "         [-1950., -1970., -1990.]],\n",
      "\n",
      "        [[  115.,   117.,   119.],\n",
      "         [  155.,   157.,   159.],\n",
      "         [  195.,   197.,   199.]]], dtype=torch.float64)\n"
     ]
    }
   ],
   "source": [
    "print(img[0, :, -5:, -5:])\n",
    "print(patches[0, :, :, :, -1, -1]) # bottom-right"
   ]
  },
  {
   "cell_type": "markdown",
   "metadata": {},
   "source": [
    "#### Transpose to get shape [B, 3, H - 2 * offset, W - 2 * offset, patch_size, patch_size]"
   ]
  },
  {
   "cell_type": "code",
   "execution_count": 17,
   "metadata": {},
   "outputs": [],
   "source": [
    "patches_t = patches.permute(0, 1, 4, 5, 2, 3)"
   ]
  },
  {
   "cell_type": "code",
   "execution_count": 18,
   "metadata": {},
   "outputs": [
    {
     "name": "stdout",
     "output_type": "stream",
     "text": [
      "tensor([[[   0.,    2.,    4.],\n",
      "         [  40.,   42.,   44.],\n",
      "         [  80.,   82.,   84.]],\n",
      "\n",
      "        [[  -0.,  -20.,  -40.],\n",
      "         [-400., -420., -440.],\n",
      "         [-800., -820., -840.]],\n",
      "\n",
      "        [[   0.,    2.,    4.],\n",
      "         [  40.,   42.,   44.],\n",
      "         [  80.,   82.,   84.]]], dtype=torch.float64)\n"
     ]
    }
   ],
   "source": [
    "print(patches_t[0, :, 0, 0, :, :]) # top-left"
   ]
  },
  {
   "cell_type": "code",
   "execution_count": 20,
   "metadata": {},
   "outputs": [
    {
     "name": "stdout",
     "output_type": "stream",
     "text": [
      "tensor([[[  15.,   17.,   19.],\n",
      "         [  55.,   57.,   59.],\n",
      "         [  95.,   97.,   99.]],\n",
      "\n",
      "        [[-150., -170., -190.],\n",
      "         [-550., -570., -590.],\n",
      "         [-950., -970., -990.]],\n",
      "\n",
      "        [[  15.,   17.,   19.],\n",
      "         [  55.,   57.,   59.],\n",
      "         [  95.,   97.,   99.]]], dtype=torch.float64)\n"
     ]
    }
   ],
   "source": [
    "print(patches_t[0, :, 0, -1, :, :]) # top-right patch"
   ]
  },
  {
   "cell_type": "code",
   "execution_count": null,
   "metadata": {},
   "outputs": [],
   "source": []
  }
 ],
 "metadata": {
  "kernelspec": {
   "display_name": "Python [conda env:anaconda]",
   "language": "python",
   "name": "conda-env-anaconda-py"
  },
  "language_info": {
   "codemirror_mode": {
    "name": "ipython",
    "version": 3
   },
   "file_extension": ".py",
   "mimetype": "text/x-python",
   "name": "python",
   "nbconvert_exporter": "python",
   "pygments_lexer": "ipython3",
   "version": "3.6.7"
  }
 },
 "nbformat": 4,
 "nbformat_minor": 2
}
